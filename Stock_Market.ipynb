{
  "nbformat": 4,
  "nbformat_minor": 0,
  "metadata": {
    "colab": {
      "name": "Stock_Market.ipynb",
      "provenance": [],
      "collapsed_sections": [],
      "authorship_tag": "ABX9TyPgFVRXSNldqZ0T7bpvAf6Q",
      "include_colab_link": true
    },
    "kernelspec": {
      "name": "python3",
      "display_name": "Python 3"
    },
    "language_info": {
      "name": "python"
    }
  },
  "cells": [
    {
      "cell_type": "markdown",
      "metadata": {
        "id": "view-in-github",
        "colab_type": "text"
      },
      "source": [
        "<a href=\"https://colab.research.google.com/github/hajnayeb/Python_Web_Scraping/blob/main/Stock_Market.ipynb\" target=\"_parent\"><img src=\"https://colab.research.google.com/assets/colab-badge.svg\" alt=\"Open In Colab\"/></a>"
      ]
    },
    {
      "cell_type": "code",
      "metadata": {
        "id": "x0AcLIZHADbs"
      },
      "source": [
        "!pip install yfinance\n",
        "!pip install html5lib\n",
        "!pip install beautifulSoup4\n",
        "!pip install requests"
      ],
      "execution_count": null,
      "outputs": []
    },
    {
      "cell_type": "code",
      "metadata": {
        "id": "FCmYwQIKANGQ"
      },
      "source": [
        "import yfinance as yf\n",
        "import pandas as pd\n",
        "import requests\n",
        "from bs4 import BeautifulSoup\n",
        "import html5lib\n",
        "from matplotlib import pyplot as plt"
      ],
      "execution_count": 2,
      "outputs": []
    },
    {
      "cell_type": "code",
      "metadata": {
        "id": "1ozqCnOcANJ_"
      },
      "source": [
        "#  Extracting Tesla Stock Data Using yfinance\n",
        "tesla = yf.Ticker(\"TSLA\")"
      ],
      "execution_count": 27,
      "outputs": []
    },
    {
      "cell_type": "code",
      "metadata": {
        "colab": {
          "base_uri": "https://localhost:8080/",
          "height": 204
        },
        "id": "zB3SjlbfANQx",
        "outputId": "53817c1b-fcad-4eea-df29-f4b065026ce6"
      },
      "source": [
        "# Extracting Tesla Revenue Data Using Webscraping\n",
        "tesla_data=tesla.history(period=\"max\")\n",
        "tesla_data.reset_index(inplace=True)\n",
        "tesla_data.head()"
      ],
      "execution_count": 28,
      "outputs": [
        {
          "output_type": "execute_result",
          "data": {
            "text/html": [
              "<div>\n",
              "<style scoped>\n",
              "    .dataframe tbody tr th:only-of-type {\n",
              "        vertical-align: middle;\n",
              "    }\n",
              "\n",
              "    .dataframe tbody tr th {\n",
              "        vertical-align: top;\n",
              "    }\n",
              "\n",
              "    .dataframe thead th {\n",
              "        text-align: right;\n",
              "    }\n",
              "</style>\n",
              "<table border=\"1\" class=\"dataframe\">\n",
              "  <thead>\n",
              "    <tr style=\"text-align: right;\">\n",
              "      <th></th>\n",
              "      <th>Date</th>\n",
              "      <th>Open</th>\n",
              "      <th>High</th>\n",
              "      <th>Low</th>\n",
              "      <th>Close</th>\n",
              "      <th>Volume</th>\n",
              "      <th>Dividends</th>\n",
              "      <th>Stock Splits</th>\n",
              "    </tr>\n",
              "  </thead>\n",
              "  <tbody>\n",
              "    <tr>\n",
              "      <th>0</th>\n",
              "      <td>2010-06-29</td>\n",
              "      <td>3.800</td>\n",
              "      <td>5.000</td>\n",
              "      <td>3.508</td>\n",
              "      <td>4.778</td>\n",
              "      <td>93831500</td>\n",
              "      <td>0</td>\n",
              "      <td>0.0</td>\n",
              "    </tr>\n",
              "    <tr>\n",
              "      <th>1</th>\n",
              "      <td>2010-06-30</td>\n",
              "      <td>5.158</td>\n",
              "      <td>6.084</td>\n",
              "      <td>4.660</td>\n",
              "      <td>4.766</td>\n",
              "      <td>85935500</td>\n",
              "      <td>0</td>\n",
              "      <td>0.0</td>\n",
              "    </tr>\n",
              "    <tr>\n",
              "      <th>2</th>\n",
              "      <td>2010-07-01</td>\n",
              "      <td>5.000</td>\n",
              "      <td>5.184</td>\n",
              "      <td>4.054</td>\n",
              "      <td>4.392</td>\n",
              "      <td>41094000</td>\n",
              "      <td>0</td>\n",
              "      <td>0.0</td>\n",
              "    </tr>\n",
              "    <tr>\n",
              "      <th>3</th>\n",
              "      <td>2010-07-02</td>\n",
              "      <td>4.600</td>\n",
              "      <td>4.620</td>\n",
              "      <td>3.742</td>\n",
              "      <td>3.840</td>\n",
              "      <td>25699000</td>\n",
              "      <td>0</td>\n",
              "      <td>0.0</td>\n",
              "    </tr>\n",
              "    <tr>\n",
              "      <th>4</th>\n",
              "      <td>2010-07-06</td>\n",
              "      <td>4.000</td>\n",
              "      <td>4.000</td>\n",
              "      <td>3.166</td>\n",
              "      <td>3.222</td>\n",
              "      <td>34334500</td>\n",
              "      <td>0</td>\n",
              "      <td>0.0</td>\n",
              "    </tr>\n",
              "  </tbody>\n",
              "</table>\n",
              "</div>"
            ],
            "text/plain": [
              "        Date   Open   High    Low  Close    Volume  Dividends  Stock Splits\n",
              "0 2010-06-29  3.800  5.000  3.508  4.778  93831500          0           0.0\n",
              "1 2010-06-30  5.158  6.084  4.660  4.766  85935500          0           0.0\n",
              "2 2010-07-01  5.000  5.184  4.054  4.392  41094000          0           0.0\n",
              "3 2010-07-02  4.600  4.620  3.742  3.840  25699000          0           0.0\n",
              "4 2010-07-06  4.000  4.000  3.166  3.222  34334500          0           0.0"
            ]
          },
          "metadata": {
            "tags": []
          },
          "execution_count": 28
        }
      ]
    },
    {
      "cell_type": "code",
      "metadata": {
        "colab": {
          "base_uri": "https://localhost:8080/",
          "height": 346
        },
        "id": "xMTcfescAbwG",
        "outputId": "21e4cac3-2fe6-44aa-e487-64fe47a83a11"
      },
      "source": [
        "dft = pd.DataFrame(tesla_data,columns=['Date','Open','High','Close','Volume'])\n",
        "dft.reset_index(inplace=True)\n",
        "fig_dims = (22, 5)\n",
        "figure, axes = plt.subplots(1, 3, figsize=fig_dims)\n",
        "dft.plot(x=\"Date\",y='Open', kind = 'line',ax=axes[0])\n",
        "dft.plot(x=\"Date\",y='Close', kind = 'line',ax=axes[1])\n",
        "dft.plot(x=\"Date\",y='Volume', kind = 'line',ax=axes[2])"
      ],
      "execution_count": 11,
      "outputs": [
        {
          "output_type": "execute_result",
          "data": {
            "text/plain": [
              "<matplotlib.axes._subplots.AxesSubplot at 0x7f42f46a1650>"
            ]
          },
          "metadata": {
            "tags": []
          },
          "execution_count": 11
        },
        {
          "output_type": "display_data",
          "data": {
            "image/png": "[encoded data removed]",
            "text/plain": [
              "<Figure size 1584x360 with 3 Axes>"
            ]
          },
          "metadata": {
            "tags": [],
            "needs_background": "light"
          }
        }
      ]
    },
    {
      "cell_type": "code",
      "metadata": {
        "colab": {
          "base_uri": "https://localhost:8080/",
          "height": 204
        },
        "id": "pGiEoJ3vAb33",
        "outputId": "70286967-69d7-4004-ca45-23625c23aeca"
      },
      "source": [
        "#reading Tesla revenue data\n",
        "tables = pd.read_html('https://ycharts.com/companies/TSLA/revenues')\n",
        "t1=tables[0]\n",
        "t1.columns=['Date','revenue']\n",
        "t1['revenue'] = t1['revenue'].str.replace('B', '')\n",
        "t1['revenue'] = t1['revenue'].str.replace('M', '/1000')\n",
        "#eval(t1['revenue'][2])\n",
        "t1['revenue'] = t1['revenue'].apply(eval)\n",
        "t1.tail()"
      ],
      "execution_count": 100,
      "outputs": [
        {
          "output_type": "execute_result",
          "data": {
            "text/html": [
              "<div>\n",
              "<style scoped>\n",
              "    .dataframe tbody tr th:only-of-type {\n",
              "        vertical-align: middle;\n",
              "    }\n",
              "\n",
              "    .dataframe tbody tr th {\n",
              "        vertical-align: top;\n",
              "    }\n",
              "\n",
              "    .dataframe thead th {\n",
              "        text-align: right;\n",
              "    }\n",
              "</style>\n",
              "<table border=\"1\" class=\"dataframe\">\n",
              "  <thead>\n",
              "    <tr style=\"text-align: right;\">\n",
              "      <th></th>\n",
              "      <th>Date</th>\n",
              "      <th>revenue</th>\n",
              "    </tr>\n",
              "  </thead>\n",
              "  <tbody>\n",
              "    <tr>\n",
              "      <th>20</th>\n",
              "      <td>March 31, 2016</td>\n",
              "      <td>1.14700</td>\n",
              "    </tr>\n",
              "    <tr>\n",
              "      <th>21</th>\n",
              "      <td>Dec. 31, 2015</td>\n",
              "      <td>1.21400</td>\n",
              "    </tr>\n",
              "    <tr>\n",
              "      <th>22</th>\n",
              "      <td>Sept. 30, 2015</td>\n",
              "      <td>0.93679</td>\n",
              "    </tr>\n",
              "    <tr>\n",
              "      <th>23</th>\n",
              "      <td>June 30, 2015</td>\n",
              "      <td>0.95498</td>\n",
              "    </tr>\n",
              "    <tr>\n",
              "      <th>24</th>\n",
              "      <td>March 31, 2015</td>\n",
              "      <td>0.93988</td>\n",
              "    </tr>\n",
              "  </tbody>\n",
              "</table>\n",
              "</div>"
            ],
            "text/plain": [
              "              Date  revenue\n",
              "20  March 31, 2016  1.14700\n",
              "21   Dec. 31, 2015  1.21400\n",
              "22  Sept. 30, 2015  0.93679\n",
              "23   June 30, 2015  0.95498\n",
              "24  March 31, 2015  0.93988"
            ]
          },
          "metadata": {
            "tags": []
          },
          "execution_count": 100
        }
      ]
    },
    {
      "cell_type": "code",
      "metadata": {
        "colab": {
          "base_uri": "https://localhost:8080/",
          "height": 293
        },
        "id": "qa6vPil7LW65",
        "outputId": "a2ec58af-a88b-4a7a-c6e3-172d7690f312"
      },
      "source": [
        "ax = t1.plot(x=\"Date\",y='revenue', kind = 'scatter',title='Tesla revenue',figsize=(20,3))\n",
        "ax.tick_params(axis='x', labelrotation = 45)"
      ],
      "execution_count": 101,
      "outputs": [
        {
          "output_type": "display_data",
          "data": {
            "image/png": "[encoded data removed]",
            "text/plain": [
              "<Figure size 1440x216 with 1 Axes>"
            ]
          },
          "metadata": {
            "tags": [],
            "needs_background": "light"
          }
        }
      ]
    },
    {
      "cell_type": "code",
      "metadata": {
        "colab": {
          "base_uri": "https://localhost:8080/",
          "height": 315
        },
        "id": "s8klSzSwAb_O",
        "outputId": "a0a2c67a-1984-4216-b9d0-0475a9d769a9"
      },
      "source": [
        "h_t = requests.get(\"https://finance.yahoo.com/quote/TSLA/financials?p=TSLA\").text\n",
        "soup = BeautifulSoup(h_t,'lxml')\n",
        "revenue = soup.find_all('div', class_=\"D(tbr) fi-row Bgc($hoverBgColor):h\")  # table data\n",
        "revenue2 = revenue[0].find_all('span')  # revenue numeric data\n",
        "#pd.read_html(revenue)\n",
        "r_TSLA=[]\n",
        "for i in revenue2[1:-1]:\n",
        "    n=int(i.text.replace(',',''))\n",
        "    r_TSLA.append(n)\n",
        "x=list(range(2018,2022))\n",
        "print(r_TSLA)\n",
        "from matplotlib import pyplot as plt\n",
        "plt.plot(x,r_TSLA,'b-.')\n",
        "plt.title('Tesla Corp. total revenue')"
      ],
      "execution_count": 13,
      "outputs": [
        {
          "output_type": "stream",
          "text": [
            "[35940000, 31536000, 24578000, 21461268]\n"
          ],
          "name": "stdout"
        },
        {
          "output_type": "execute_result",
          "data": {
            "text/plain": [
              "Text(0.5, 1.0, 'Tesla Corp. total revenue')"
            ]
          },
          "metadata": {
            "tags": []
          },
          "execution_count": 13
        },
        {
          "output_type": "display_data",
          "data": {
            "image/png": "[encoded data removed]",
            "text/plain": [
              "<Figure size 432x288 with 1 Axes>"
            ]
          },
          "metadata": {
            "tags": [],
            "needs_background": "light"
          }
        }
      ]
    },
    {
      "cell_type": "code",
      "metadata": {
        "id": "0urk231oFgQw"
      },
      "source": [
        "#  Extracting GameStop Stock Data Using yfinance\n",
        "gs = yf.Ticker(\"GME\")"
      ],
      "execution_count": 16,
      "outputs": []
    },
    {
      "cell_type": "code",
      "metadata": {
        "colab": {
          "base_uri": "https://localhost:8080/",
          "height": 235
        },
        "id": "AulWLIhfFgT9",
        "outputId": "60ebe3d7-399e-482a-fa5e-d15a883fc220"
      },
      "source": [
        "# Extracting GameStop general and Revenue Data Using Webscraping\n",
        "gs_data=gs.history(period=\"max\")\n",
        "gs_data.head()"
      ],
      "execution_count": 66,
      "outputs": [
        {
          "output_type": "execute_result",
          "data": {
            "text/html": [
              "<div>\n",
              "<style scoped>\n",
              "    .dataframe tbody tr th:only-of-type {\n",
              "        vertical-align: middle;\n",
              "    }\n",
              "\n",
              "    .dataframe tbody tr th {\n",
              "        vertical-align: top;\n",
              "    }\n",
              "\n",
              "    .dataframe thead th {\n",
              "        text-align: right;\n",
              "    }\n",
              "</style>\n",
              "<table border=\"1\" class=\"dataframe\">\n",
              "  <thead>\n",
              "    <tr style=\"text-align: right;\">\n",
              "      <th></th>\n",
              "      <th>Open</th>\n",
              "      <th>High</th>\n",
              "      <th>Low</th>\n",
              "      <th>Close</th>\n",
              "      <th>Volume</th>\n",
              "      <th>Dividends</th>\n",
              "      <th>Stock Splits</th>\n",
              "    </tr>\n",
              "    <tr>\n",
              "      <th>Date</th>\n",
              "      <th></th>\n",
              "      <th></th>\n",
              "      <th></th>\n",
              "      <th></th>\n",
              "      <th></th>\n",
              "      <th></th>\n",
              "      <th></th>\n",
              "    </tr>\n",
              "  </thead>\n",
              "  <tbody>\n",
              "    <tr>\n",
              "      <th>2002-02-13</th>\n",
              "      <td>6.480513</td>\n",
              "      <td>6.773399</td>\n",
              "      <td>6.413183</td>\n",
              "      <td>6.766666</td>\n",
              "      <td>19054000</td>\n",
              "      <td>0.0</td>\n",
              "      <td>0.0</td>\n",
              "    </tr>\n",
              "    <tr>\n",
              "      <th>2002-02-14</th>\n",
              "      <td>6.850831</td>\n",
              "      <td>6.864296</td>\n",
              "      <td>6.682506</td>\n",
              "      <td>6.733003</td>\n",
              "      <td>2755400</td>\n",
              "      <td>0.0</td>\n",
              "      <td>0.0</td>\n",
              "    </tr>\n",
              "    <tr>\n",
              "      <th>2002-02-15</th>\n",
              "      <td>6.733001</td>\n",
              "      <td>6.749833</td>\n",
              "      <td>6.632006</td>\n",
              "      <td>6.699336</td>\n",
              "      <td>2097400</td>\n",
              "      <td>0.0</td>\n",
              "      <td>0.0</td>\n",
              "    </tr>\n",
              "    <tr>\n",
              "      <th>2002-02-19</th>\n",
              "      <td>6.665671</td>\n",
              "      <td>6.665671</td>\n",
              "      <td>6.312189</td>\n",
              "      <td>6.430017</td>\n",
              "      <td>1852600</td>\n",
              "      <td>0.0</td>\n",
              "      <td>0.0</td>\n",
              "    </tr>\n",
              "    <tr>\n",
              "      <th>2002-02-20</th>\n",
              "      <td>6.463681</td>\n",
              "      <td>6.648838</td>\n",
              "      <td>6.413183</td>\n",
              "      <td>6.648838</td>\n",
              "      <td>1723200</td>\n",
              "      <td>0.0</td>\n",
              "      <td>0.0</td>\n",
              "    </tr>\n",
              "  </tbody>\n",
              "</table>\n",
              "</div>"
            ],
            "text/plain": [
              "                Open      High       Low  ...    Volume  Dividends  Stock Splits\n",
              "Date                                      ...                                   \n",
              "2002-02-13  6.480513  6.773399  6.413183  ...  19054000        0.0           0.0\n",
              "2002-02-14  6.850831  6.864296  6.682506  ...   2755400        0.0           0.0\n",
              "2002-02-15  6.733001  6.749833  6.632006  ...   2097400        0.0           0.0\n",
              "2002-02-19  6.665671  6.665671  6.312189  ...   1852600        0.0           0.0\n",
              "2002-02-20  6.463681  6.648838  6.413183  ...   1723200        0.0           0.0\n",
              "\n",
              "[5 rows x 7 columns]"
            ]
          },
          "metadata": {
            "tags": []
          },
          "execution_count": 66
        }
      ]
    },
    {
      "cell_type": "code",
      "metadata": {
        "colab": {
          "base_uri": "https://localhost:8080/",
          "height": 142
        },
        "id": "p-m0BRGoFgYP",
        "outputId": "77c7c031-eb28-4091-f6f8-e3d0cf4e1001"
      },
      "source": [
        "dfgs = pd.DataFrame(gs_data,columns=['Open','High','Close','Volume'])\n",
        "dfgs.reset_index(inplace=True)\n",
        "#plt.plot(df,x=\"Date\", y=\"Open\")\n",
        "dfgs.head(3)"
      ],
      "execution_count": 21,
      "outputs": [
        {
          "output_type": "execute_result",
          "data": {
            "text/html": [
              "<div>\n",
              "<style scoped>\n",
              "    .dataframe tbody tr th:only-of-type {\n",
              "        vertical-align: middle;\n",
              "    }\n",
              "\n",
              "    .dataframe tbody tr th {\n",
              "        vertical-align: top;\n",
              "    }\n",
              "\n",
              "    .dataframe thead th {\n",
              "        text-align: right;\n",
              "    }\n",
              "</style>\n",
              "<table border=\"1\" class=\"dataframe\">\n",
              "  <thead>\n",
              "    <tr style=\"text-align: right;\">\n",
              "      <th></th>\n",
              "      <th>Date</th>\n",
              "      <th>Open</th>\n",
              "      <th>High</th>\n",
              "      <th>Close</th>\n",
              "      <th>Volume</th>\n",
              "    </tr>\n",
              "  </thead>\n",
              "  <tbody>\n",
              "    <tr>\n",
              "      <th>0</th>\n",
              "      <td>2002-02-13</td>\n",
              "      <td>6.480513</td>\n",
              "      <td>6.773399</td>\n",
              "      <td>6.766666</td>\n",
              "      <td>19054000</td>\n",
              "    </tr>\n",
              "    <tr>\n",
              "      <th>1</th>\n",
              "      <td>2002-02-14</td>\n",
              "      <td>6.850831</td>\n",
              "      <td>6.864296</td>\n",
              "      <td>6.733003</td>\n",
              "      <td>2755400</td>\n",
              "    </tr>\n",
              "    <tr>\n",
              "      <th>2</th>\n",
              "      <td>2002-02-15</td>\n",
              "      <td>6.733001</td>\n",
              "      <td>6.749833</td>\n",
              "      <td>6.699336</td>\n",
              "      <td>2097400</td>\n",
              "    </tr>\n",
              "  </tbody>\n",
              "</table>\n",
              "</div>"
            ],
            "text/plain": [
              "        Date      Open      High     Close    Volume\n",
              "0 2002-02-13  6.480513  6.773399  6.766666  19054000\n",
              "1 2002-02-14  6.850831  6.864296  6.733003   2755400\n",
              "2 2002-02-15  6.733001  6.749833  6.699336   2097400"
            ]
          },
          "metadata": {
            "tags": []
          },
          "execution_count": 21
        }
      ]
    },
    {
      "cell_type": "code",
      "metadata": {
        "colab": {
          "base_uri": "https://localhost:8080/",
          "height": 346
        },
        "id": "3jsC1B3uFRfn",
        "outputId": "906df7bb-d2bf-469a-e3e5-66a58efa77e9"
      },
      "source": [
        "fig_dims = (22, 5)\n",
        "figure, axes = plt.subplots(1, 3, figsize=fig_dims)\n",
        "dfgs.plot(x=\"Date\",y='Open', kind = 'line',ax=axes[0])\n",
        "dfgs.plot(x=\"Date\",y='Close', kind = 'line',ax=axes[1])\n",
        "dfgs.plot(x=\"Date\",y='Volume', kind = 'line',ax=axes[2])"
      ],
      "execution_count": 23,
      "outputs": [
        {
          "output_type": "execute_result",
          "data": {
            "text/plain": [
              "<matplotlib.axes._subplots.AxesSubplot at 0x7f42f3bdea50>"
            ]
          },
          "metadata": {
            "tags": []
          },
          "execution_count": 23
        },
        {
          "output_type": "display_data",
          "data": {
            "image/png": "[encoded data removed]",
            "text/plain": [
              "<Figure size 1584x360 with 3 Axes>"
            ]
          },
          "metadata": {
            "tags": [],
            "needs_background": "light"
          }
        }
      ]
    },
    {
      "cell_type": "code",
      "metadata": {
        "colab": {
          "base_uri": "https://localhost:8080/",
          "height": 204
        },
        "id": "7PL5FlBVSlP4",
        "outputId": "2b06dea8-66b3-418a-be71-fdf20a821336"
      },
      "source": [
        "#reading Gamestop revenue data\n",
        "tables = pd.read_html('https://ycharts.com/companies/GME/revenues_ttm')\n",
        "t1=tables[0]\n",
        "t1.columns=['Date','revenue']\n",
        "t1['revenue'] = t1['revenue'].str.replace('B', '')\n",
        "t1['revenue'] = t1['revenue'].str.replace('M', '/1000')\n",
        "#eval(t1['revenue'][2])\n",
        "t1['revenue'] = t1['revenue'].apply(eval)\n",
        "t1.tail()"
      ],
      "execution_count": 97,
      "outputs": [
        {
          "output_type": "execute_result",
          "data": {
            "text/html": [
              "<div>\n",
              "<style scoped>\n",
              "    .dataframe tbody tr th:only-of-type {\n",
              "        vertical-align: middle;\n",
              "    }\n",
              "\n",
              "    .dataframe tbody tr th {\n",
              "        vertical-align: top;\n",
              "    }\n",
              "\n",
              "    .dataframe thead th {\n",
              "        text-align: right;\n",
              "    }\n",
              "</style>\n",
              "<table border=\"1\" class=\"dataframe\">\n",
              "  <thead>\n",
              "    <tr style=\"text-align: right;\">\n",
              "      <th></th>\n",
              "      <th>Date</th>\n",
              "      <th>revenue</th>\n",
              "    </tr>\n",
              "  </thead>\n",
              "  <tbody>\n",
              "    <tr>\n",
              "      <th>20</th>\n",
              "      <td>Jan. 31, 2016</td>\n",
              "      <td>9.364</td>\n",
              "    </tr>\n",
              "    <tr>\n",
              "      <th>21</th>\n",
              "      <td>Oct. 31, 2015</td>\n",
              "      <td>9.315</td>\n",
              "    </tr>\n",
              "    <tr>\n",
              "      <th>22</th>\n",
              "      <td>July 31, 2015</td>\n",
              "      <td>9.391</td>\n",
              "    </tr>\n",
              "    <tr>\n",
              "      <th>23</th>\n",
              "      <td>April 30, 2015</td>\n",
              "      <td>9.360</td>\n",
              "    </tr>\n",
              "    <tr>\n",
              "      <th>24</th>\n",
              "      <td>Jan. 31, 2015</td>\n",
              "      <td>9.296</td>\n",
              "    </tr>\n",
              "  </tbody>\n",
              "</table>\n",
              "</div>"
            ],
            "text/plain": [
              "              Date  revenue\n",
              "20   Jan. 31, 2016    9.364\n",
              "21   Oct. 31, 2015    9.315\n",
              "22   July 31, 2015    9.391\n",
              "23  April 30, 2015    9.360\n",
              "24   Jan. 31, 2015    9.296"
            ]
          },
          "metadata": {
            "tags": []
          },
          "execution_count": 97
        }
      ]
    },
    {
      "cell_type": "code",
      "metadata": {
        "colab": {
          "base_uri": "https://localhost:8080/",
          "height": 288
        },
        "id": "x7GFmwHyV6LY",
        "outputId": "0cbfcf59-46ae-4300-f64e-bc2a16983975"
      },
      "source": [
        "ax = t1.plot(x=\"Date\",y='revenue', kind = 'scatter',title='Gamestop revenue',figsize=(20,3))\n",
        "ax.tick_params(axis='x', labelrotation = 45)"
      ],
      "execution_count": 98,
      "outputs": [
        {
          "output_type": "display_data",
          "data": {
            "image/png": "[encoded data removed]",
            "text/plain": [
              "<Figure size 1440x216 with 1 Axes>"
            ]
          },
          "metadata": {
            "tags": [],
            "needs_background": "light"
          }
        }
      ]
    },
    {
      "cell_type": "code",
      "metadata": {
        "colab": {
          "base_uri": "https://localhost:8080/",
          "height": 297
        },
        "id": "Mcspgn2nFRi2",
        "outputId": "cb9896bd-8ea7-474f-b36f-72b1240638f1"
      },
      "source": [
        "dfs = pd.read_html('https://finance.yahoo.com/quote/GME/')\n",
        "dfs[1]"
      ],
      "execution_count": 24,
      "outputs": [
        {
          "output_type": "execute_result",
          "data": {
            "text/html": [
              "<div>\n",
              "<style scoped>\n",
              "    .dataframe tbody tr th:only-of-type {\n",
              "        vertical-align: middle;\n",
              "    }\n",
              "\n",
              "    .dataframe tbody tr th {\n",
              "        vertical-align: top;\n",
              "    }\n",
              "\n",
              "    .dataframe thead th {\n",
              "        text-align: right;\n",
              "    }\n",
              "</style>\n",
              "<table border=\"1\" class=\"dataframe\">\n",
              "  <thead>\n",
              "    <tr style=\"text-align: right;\">\n",
              "      <th></th>\n",
              "      <th>0</th>\n",
              "      <th>1</th>\n",
              "    </tr>\n",
              "  </thead>\n",
              "  <tbody>\n",
              "    <tr>\n",
              "      <th>0</th>\n",
              "      <td>Market Cap</td>\n",
              "      <td>12.74B</td>\n",
              "    </tr>\n",
              "    <tr>\n",
              "      <th>1</th>\n",
              "      <td>Beta (5Y Monthly)</td>\n",
              "      <td>-1.94</td>\n",
              "    </tr>\n",
              "    <tr>\n",
              "      <th>2</th>\n",
              "      <td>PE Ratio (TTM)</td>\n",
              "      <td>NaN</td>\n",
              "    </tr>\n",
              "    <tr>\n",
              "      <th>3</th>\n",
              "      <td>EPS (TTM)</td>\n",
              "      <td>-3.31</td>\n",
              "    </tr>\n",
              "    <tr>\n",
              "      <th>4</th>\n",
              "      <td>Earnings Date</td>\n",
              "      <td>Jun 23, 2021 - Jun 30, 2021</td>\n",
              "    </tr>\n",
              "    <tr>\n",
              "      <th>5</th>\n",
              "      <td>Forward Dividend &amp; Yield</td>\n",
              "      <td>N/A (N/A)</td>\n",
              "    </tr>\n",
              "    <tr>\n",
              "      <th>6</th>\n",
              "      <td>Ex-Dividend Date</td>\n",
              "      <td>Mar 14, 2019</td>\n",
              "    </tr>\n",
              "    <tr>\n",
              "      <th>7</th>\n",
              "      <td>1y Target Est</td>\n",
              "      <td>48.17</td>\n",
              "    </tr>\n",
              "  </tbody>\n",
              "</table>\n",
              "</div>"
            ],
            "text/plain": [
              "                          0                            1\n",
              "0                Market Cap                       12.74B\n",
              "1         Beta (5Y Monthly)                        -1.94\n",
              "2            PE Ratio (TTM)                          NaN\n",
              "3                 EPS (TTM)                        -3.31\n",
              "4             Earnings Date  Jun 23, 2021 - Jun 30, 2021\n",
              "5  Forward Dividend & Yield                    N/A (N/A)\n",
              "6          Ex-Dividend Date                 Mar 14, 2019\n",
              "7             1y Target Est                        48.17"
            ]
          },
          "metadata": {
            "tags": []
          },
          "execution_count": 24
        }
      ]
    },
    {
      "cell_type": "code",
      "metadata": {
        "colab": {
          "base_uri": "https://localhost:8080/",
          "height": 315
        },
        "id": "rbO8R1G1FRlx",
        "outputId": "ab11a5e7-43ed-4bb9-de2d-a2ed645de8c6"
      },
      "source": [
        "h_t = requests.get(\"https://finance.yahoo.com/quote/GME/financials?p=GME\").text\n",
        "soup = BeautifulSoup(h_t,'lxml')\n",
        "revenue = soup.find_all('div', class_=\"D(tbr) fi-row Bgc($hoverBgColor):h\")  # table data\n",
        "revenue2 = revenue[0].find_all('span')  # revenue numeric data\n",
        "#pd.read_html(revenue)\n",
        "r_gme=[]\n",
        "for i in revenue2[1:-1]:\n",
        "    n=int(i.text.replace(',',''))\n",
        "    r_gme.append(n)\n",
        "x=list(range(2018,2022))\n",
        "print(r_gme)\n",
        "plt.plot(x,r_gme,'b-.')\n",
        "plt.title('GameStop Corp. total revenue')"
      ],
      "execution_count": 25,
      "outputs": [
        {
          "output_type": "stream",
          "text": [
            "[5089800, 5089800, 6466000, 8285300]\n"
          ],
          "name": "stdout"
        },
        {
          "output_type": "execute_result",
          "data": {
            "text/plain": [
              "Text(0.5, 1.0, 'GameStop Corp. total revenue')"
            ]
          },
          "metadata": {
            "tags": []
          },
          "execution_count": 25
        },
        {
          "output_type": "display_data",
          "data": {
            "image/png": "[encoded data removed]",
            "text/plain": [
              "<Figure size 432x288 with 1 Axes>"
            ]
          },
          "metadata": {
            "tags": [],
            "needs_background": "light"
          }
        }
      ]
    }
  ]
}