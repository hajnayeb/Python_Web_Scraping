{
  "nbformat": 4,
  "nbformat_minor": 0,
  "metadata": {
    "colab": {
      "name": "Web_Scraping.ipynb",
      "provenance": [],
      "collapsed_sections": [],
      "authorship_tag": "ABX9TyMp9NO1O/RVCZ7kESKACLba",
      "include_colab_link": true
    },
    "kernelspec": {
      "name": "python3",
      "display_name": "Python 3"
    },
    "language_info": {
      "name": "python"
    }
  },
  "cells": [
    {
      "cell_type": "markdown",
      "metadata": {
        "id": "view-in-github",
        "colab_type": "text"
      },
      "source": [
        "<a href=\"https://colab.research.google.com/github/hajnayeb/Python_Web_Scraping/blob/main/Web_Scraping.ipynb\" target=\"_parent\"><img src=\"https://colab.research.google.com/assets/colab-badge.svg\" alt=\"Open In Colab\"/></a>"
      ]
    },
    {
      "cell_type": "code",
      "metadata": {
        "id": "JxrstoHwHcyr"
      },
      "source": [
        "!pip install bs4\n",
        "!pip install beautifulSoup4\n",
        "!pip install lxml\n",
        "!pip install requests"
      ],
      "execution_count": null,
      "outputs": []
    },
    {
      "cell_type": "code",
      "metadata": {
        "id": "4IrbGowcIJru"
      },
      "source": [
        "import pandas as pd\n",
        "import requests\n",
        "from bs4 import BeautifulSoup"
      ],
      "execution_count": 2,
      "outputs": []
    },
    {
      "cell_type": "code",
      "metadata": {
        "id": "2BK7dzBlILdV"
      },
      "source": [
        "html_data =requests.get('https://finance.yahoo.com/quote/AMZN/history?period1=1451606400&period2=1612137600&interval=1mo&filter=history&frequency=1mo&includeAdjustedClose=true')"
      ],
      "execution_count": 3,
      "outputs": []
    },
    {
      "cell_type": "code",
      "metadata": {
        "id": "5hub1S17ILk0"
      },
      "source": [
        "soup = BeautifulSoup(html_data.text, 'lxml')  #'html.parser'"
      ],
      "execution_count": 4,
      "outputs": []
    },
    {
      "cell_type": "code",
      "metadata": {
        "id": "pZcSeVbUtXop"
      },
      "source": [
        "print(soup.prettify())"
      ],
      "execution_count": null,
      "outputs": []
    },
    {
      "cell_type": "code",
      "metadata": {
        "colab": {
          "base_uri": "https://localhost:8080/"
        },
        "id": "GI0C25Vqc7FS",
        "outputId": "df8a3a33-6c02-4ee9-95d7-f19793e275e3"
      },
      "source": [
        "headings1 = soup.find_all('h1')  # finding the level#1 headings\n",
        "print(headings1)"
      ],
      "execution_count": 6,
      "outputs": [
        {
          "output_type": "stream",
          "text": [
            "[<h1 class=\"D(ib) Fz(18px)\" data-reactid=\"7\">Amazon.com, Inc. (AMZN)</h1>]\n"
          ],
          "name": "stdout"
        }
      ]
    },
    {
      "cell_type": "code",
      "metadata": {
        "colab": {
          "base_uri": "https://localhost:8080/",
          "height": 35
        },
        "id": "YWtdgG7eeT0v",
        "outputId": "8807bcac-4623-4def-b9fb-40b087c08283"
      },
      "source": [
        "headings1[0].text # printing the first and the only level#3 heading text"
      ],
      "execution_count": 7,
      "outputs": [
        {
          "output_type": "execute_result",
          "data": {
            "application/vnd.google.colaboratory.intrinsic+json": {
              "type": "string"
            },
            "text/plain": [
              "'Amazon.com, Inc. (AMZN)'"
            ]
          },
          "metadata": {
            "tags": []
          },
          "execution_count": 7
        }
      ]
    },
    {
      "cell_type": "code",
      "metadata": {
        "colab": {
          "base_uri": "https://localhost:8080/"
        },
        "id": "vqTNJUKKe0OJ",
        "outputId": "44b74adf-3d80-427c-e139-59005e57bf06"
      },
      "source": [
        "headings3 = soup.find_all('h3')  # finding all the the level#3 headings\n",
        "print(headings3)"
      ],
      "execution_count": 8,
      "outputs": [
        {
          "output_type": "stream",
          "text": [
            "[<h3 class=\"Maw(160px)\" data-reactid=\"15\"><a aria-label=\"S&amp;P Futures has increased by 0.20% or 8.25 points to 4,202.00 points\" class=\"Fz(s) Ell Fw(600) C($linkColor)\" data-reactid=\"16\" href=\"/quote/ES%3DF?p=ES%3DF\" title=\"S&amp;P Futures\">S&amp;P Futures</a><br data-reactid=\"17\"/><span class=\"Trsdu(0.3s) Fz(s) Mt(4px) Mb(0px) Fw(b) D(ib)\" data-reactid=\"18\">4,202.00</span><div class=\"Fz(xs) Fw(b) C($positiveColor)\" data-reactid=\"19\"><span class=\"Trsdu(0.3s) C($positiveColor)\" data-reactid=\"20\">+8.25</span><span class=\"Mstart(2px)\" data-reactid=\"21\"><!-- react-text: 22 -->(<!-- /react-text --><span class=\"Trsdu(0.3s) C($positiveColor)\" data-reactid=\"23\">+0.20%</span><!-- react-text: 24 -->)<!-- /react-text --></span></div><a class=\"Fl(end) Mt(-30px)\" data-reactid=\"25\" data-symbol=\"ES=F\" href=\"/chart/ES%3DF\" rel=\"noopener noreferrer\" target=\"_blank\" title=\"S&amp;P Futures Chart\"><canvas data-reactid=\"26\" style=\"width:70px;height:25px;\"></canvas></a></h3>, <h3 class=\"Maw(160px)\" data-reactid=\"28\"><a aria-label=\"Dow Futures has increased by 0.17% or 57.00 points to 34,409.00 points\" class=\"Fz(s) Ell Fw(600) C($linkColor)\" data-reactid=\"29\" href=\"/quote/YM%3DF?p=YM%3DF\" title=\"Dow Futures\">Dow Futures</a><br data-reactid=\"30\"/><span class=\"Trsdu(0.3s) Fz(s) Mt(4px) Mb(0px) Fw(b) D(ib)\" data-reactid=\"31\">34,409.00</span><div class=\"Fz(xs) Fw(b) C($positiveColor)\" data-reactid=\"32\"><span class=\"Trsdu(0.3s) C($positiveColor)\" data-reactid=\"33\">+57.00</span><span class=\"Mstart(2px)\" data-reactid=\"34\"><!-- react-text: 35 -->(<!-- /react-text --><span class=\"Trsdu(0.3s) C($positiveColor)\" data-reactid=\"36\">+0.17%</span><!-- react-text: 37 -->)<!-- /react-text --></span></div><a class=\"Fl(end) Mt(-30px)\" data-reactid=\"38\" data-symbol=\"YM=F\" href=\"/chart/YM%3DF\" rel=\"noopener noreferrer\" target=\"_blank\" title=\"Dow Futures Chart\"><canvas data-reactid=\"39\" style=\"width:70px;height:25px;\"></canvas></a></h3>, <h3 class=\"Maw(160px)\" data-reactid=\"41\"><a aria-label=\"Nasdaq Futures has increased by 0.24% or 33.00 points to 13,668.25 points\" class=\"Fz(s) Ell Fw(600) C($linkColor)\" data-reactid=\"42\" href=\"/quote/NQ%3DF?p=NQ%3DF\" title=\"Nasdaq Futures\">Nasdaq Futures</a><br data-reactid=\"43\"/><span class=\"Trsdu(0.3s) Fz(s) Mt(4px) Mb(0px) Fw(b) D(ib)\" data-reactid=\"44\">13,668.25</span><div class=\"Fz(xs) Fw(b) C($positiveColor)\" data-reactid=\"45\"><span class=\"Trsdu(0.3s) C($positiveColor)\" data-reactid=\"46\">+33.00</span><span class=\"Mstart(2px)\" data-reactid=\"47\"><!-- react-text: 48 -->(<!-- /react-text --><span class=\"Trsdu(0.3s) C($positiveColor)\" data-reactid=\"49\">+0.24%</span><!-- react-text: 50 -->)<!-- /react-text --></span></div><a class=\"Fl(end) Mt(-30px)\" data-reactid=\"51\" data-symbol=\"NQ=F\" href=\"/chart/NQ%3DF\" rel=\"noopener noreferrer\" target=\"_blank\" title=\"Nasdaq Futures Chart\"><canvas data-reactid=\"52\" style=\"width:70px;height:25px;\"></canvas></a></h3>]\n"
          ],
          "name": "stdout"
        }
      ]
    },
    {
      "cell_type": "code",
      "metadata": {
        "colab": {
          "base_uri": "https://localhost:8080/"
        },
        "id": "fFlZqmjnfSj0",
        "outputId": "0d0851e5-42ba-4d60-cc8e-44cdf1a49ebf"
      },
      "source": [
        "# printing the level#3 headings\n",
        "for head3 in headings3: \n",
        "  print(head3.text)"
      ],
      "execution_count": 9,
      "outputs": [
        {
          "output_type": "stream",
          "text": [
            "S&P Futures4,202.00+8.25(+0.20%)\n",
            "Dow Futures34,409.00+57.00(+0.17%)\n",
            "Nasdaq Futures13,668.25+33.00(+0.24%)\n"
          ],
          "name": "stdout"
        }
      ]
    },
    {
      "cell_type": "code",
      "metadata": {
        "colab": {
          "base_uri": "https://localhost:8080/"
        },
        "id": "JK9ViUdpCIhl",
        "outputId": "fc6af650-e506-4501-96f4-a633229e26d0"
      },
      "source": [
        "# printing the change percentage in the values\n",
        "for head3 in headings3: \n",
        "  cn = head3.text.split()[0]\n",
        "  pc = head3.text.split()[-1][-7:-2]\n",
        "  print(f'{cn} stock changed {pc} %')"
      ],
      "execution_count": 10,
      "outputs": [
        {
          "output_type": "stream",
          "text": [
            "S&P stock changed +0.20 %\n",
            "Dow stock changed +0.17 %\n",
            "Nasdaq stock changed +0.24 %\n"
          ],
          "name": "stdout"
        }
      ]
    },
    {
      "cell_type": "code",
      "metadata": {
        "colab": {
          "base_uri": "https://localhost:8080/",
          "height": 142
        },
        "id": "xEyAMD7cILo1",
        "outputId": "bdb042bd-7e6a-4abe-d9f4-a9468bceaf29"
      },
      "source": [
        "# reading the file again, and looking for tables:\n",
        "dfs = pd.read_html('https://finance.yahoo.com/quote/AMZN/history?period1=1451606400&period2=1612137600&interval=1mo&filter=history&frequency=1mo&includeAdjustedClose=true')\n",
        "amazon_data=dfs[0]  # selecting the first table\n",
        "amazon_data.reset_index(inplace=True)\n",
        "amazon_data.drop(labels=61, axis=0,inplace=True)\n",
        "amazon_data.tail(3)"
      ],
      "execution_count": 16,
      "outputs": [
        {
          "output_type": "execute_result",
          "data": {
            "text/html": [
              "<div>\n",
              "<style scoped>\n",
              "    .dataframe tbody tr th:only-of-type {\n",
              "        vertical-align: middle;\n",
              "    }\n",
              "\n",
              "    .dataframe tbody tr th {\n",
              "        vertical-align: top;\n",
              "    }\n",
              "\n",
              "    .dataframe thead th {\n",
              "        text-align: right;\n",
              "    }\n",
              "</style>\n",
              "<table border=\"1\" class=\"dataframe\">\n",
              "  <thead>\n",
              "    <tr style=\"text-align: right;\">\n",
              "      <th></th>\n",
              "      <th>index</th>\n",
              "      <th>Date</th>\n",
              "      <th>Open</th>\n",
              "      <th>High</th>\n",
              "      <th>Low</th>\n",
              "      <th>Close*</th>\n",
              "      <th>Adj Close**</th>\n",
              "      <th>Volume</th>\n",
              "    </tr>\n",
              "  </thead>\n",
              "  <tbody>\n",
              "    <tr>\n",
              "      <th>58</th>\n",
              "      <td>58</td>\n",
              "      <td>Mar 01, 2016</td>\n",
              "      <td>556.29</td>\n",
              "      <td>603.24</td>\n",
              "      <td>538.58</td>\n",
              "      <td>593.64</td>\n",
              "      <td>593.64</td>\n",
              "      <td>94009500</td>\n",
              "    </tr>\n",
              "    <tr>\n",
              "      <th>59</th>\n",
              "      <td>59</td>\n",
              "      <td>Feb 01, 2016</td>\n",
              "      <td>578.15</td>\n",
              "      <td>581.80</td>\n",
              "      <td>474.00</td>\n",
              "      <td>552.52</td>\n",
              "      <td>552.52</td>\n",
              "      <td>124144800</td>\n",
              "    </tr>\n",
              "    <tr>\n",
              "      <th>60</th>\n",
              "      <td>60</td>\n",
              "      <td>Jan 01, 2016</td>\n",
              "      <td>656.29</td>\n",
              "      <td>657.72</td>\n",
              "      <td>547.18</td>\n",
              "      <td>587.00</td>\n",
              "      <td>587.00</td>\n",
              "      <td>130200900</td>\n",
              "    </tr>\n",
              "  </tbody>\n",
              "</table>\n",
              "</div>"
            ],
            "text/plain": [
              "    index          Date    Open    High     Low  Close* Adj Close**     Volume\n",
              "58     58  Mar 01, 2016  556.29  603.24  538.58  593.64      593.64   94009500\n",
              "59     59  Feb 01, 2016  578.15  581.80  474.00  552.52      552.52  124144800\n",
              "60     60  Jan 01, 2016  656.29  657.72  547.18  587.00      587.00  130200900"
            ]
          },
          "metadata": {
            "tags": []
          },
          "execution_count": 16
        }
      ]
    },
    {
      "cell_type": "code",
      "metadata": {
        "colab": {
          "base_uri": "https://localhost:8080/"
        },
        "id": "i_9WFNRYILsG",
        "outputId": "f4cae7d1-d9be-4a2d-df21-2d29777439e8"
      },
      "source": [
        "x=amazon_data.loc[amazon_data['Date'] == 'Jun 01, 2019'] # Finding data on a specific date\n",
        "print(x)"
      ],
      "execution_count": 17,
      "outputs": [
        {
          "output_type": "stream",
          "text": [
            "    index          Date     Open  ...   Close* Adj Close**    Volume\n",
            "19     19  Jun 01, 2019  1760.01  ...  1893.63     1893.63  74746500\n",
            "\n",
            "[1 rows x 8 columns]\n"
          ],
          "name": "stdout"
        }
      ]
    },
    {
      "cell_type": "code",
      "metadata": {
        "colab": {
          "base_uri": "https://localhost:8080/",
          "height": 270
        },
        "id": "X4cwPta_JQ13",
        "outputId": "34102dca-4633-4856-a36a-d100d904f776"
      },
      "source": [
        "amazon_data.Open=pd.to_numeric(amazon_data.Open)\n",
        "amazon_data.High=pd.to_numeric(amazon_data.High)\n",
        "#amazon_data.plot(x=\"Date\", y=\"Open\")\n",
        "ax = amazon_data.plot(x=\"Date\",y='Open', kind = 'scatter',figsize=(20,3))\n",
        "ax.tick_params(axis='x', labelrotation = 45)"
      ],
      "execution_count": 18,
      "outputs": [
        {
          "output_type": "display_data",
          "data": {
            "image/png": "[encoded data removed]",
            "text/plain": [
              "<Figure size 1440x216 with 1 Axes>"
            ]
          },
          "metadata": {
            "tags": [],
            "needs_background": "light"
          }
        }
      ]
    },
    {
      "cell_type": "code",
      "metadata": {
        "id": "w_KcBsCGMUhc"
      },
      "source": [
        ""
      ],
      "execution_count": null,
      "outputs": []
    }
  ]
}